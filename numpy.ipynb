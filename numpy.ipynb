{
 "cells": [
  {
   "cell_type": "code",
   "execution_count": 1,
   "id": "94d40ed6",
   "metadata": {},
   "outputs": [],
   "source": [
    "import numpy as np\n"
   ]
  },
  {
   "cell_type": "code",
   "execution_count": 2,
   "id": "0cbec7e1",
   "metadata": {},
   "outputs": [],
   "source": [
    "%timeit"
   ]
  },
  {
   "cell_type": "code",
   "execution_count": 3,
   "id": "e78efa2c",
   "metadata": {},
   "outputs": [],
   "source": [
    "d=100000\n",
    "def nor():\n",
    "    x=range(d)\n",
    "    y=range(d)\n",
    "    z=(x[i] + y[i] for i in range(len(x)))\n",
    "    return z"
   ]
  },
  {
   "cell_type": "code",
   "execution_count": 4,
   "id": "d1a032a2",
   "metadata": {},
   "outputs": [
    {
     "name": "stdout",
     "output_type": "stream",
     "text": [
      "1.04 µs ± 215 ns per loop (mean ± std. dev. of 7 runs, 1000000 loops each)\n"
     ]
    }
   ],
   "source": [
    "%timeit nor()"
   ]
  },
  {
   "cell_type": "code",
   "execution_count": 5,
   "id": "a39aff97",
   "metadata": {},
   "outputs": [],
   "source": [
    "k=100000\n",
    "def nr():\n",
    "    x=np.arange(k)\n",
    "    y=np.arange(k)\n",
    "    z=(x + y)\n",
    "    return z"
   ]
  },
  {
   "cell_type": "code",
   "execution_count": 6,
   "id": "0ef2d8e6",
   "metadata": {},
   "outputs": [
    {
     "name": "stdout",
     "output_type": "stream",
     "text": [
      "196 µs ± 14.1 µs per loop (mean ± std. dev. of 7 runs, 1000 loops each)\n"
     ]
    }
   ],
   "source": [
    "%timeit nr()"
   ]
  },
  {
   "cell_type": "code",
   "execution_count": 7,
   "id": "38614c92",
   "metadata": {},
   "outputs": [
    {
     "data": {
      "text/plain": [
       "array([False,  True])"
      ]
     },
     "execution_count": 7,
     "metadata": {},
     "output_type": "execute_result"
    }
   ],
   "source": [
    "l=np.array([1,5.6,\"jbv\"])\n",
    "k=np.array([False,True],dtype=bool)\n",
    "s=np.array([1,2,3,4],dtype=np.int64)\n",
    "\n",
    "k"
   ]
  },
  {
   "cell_type": "code",
   "execution_count": 8,
   "id": "25258119",
   "metadata": {},
   "outputs": [
    {
     "data": {
      "text/plain": [
       "array([0, 0, 0, 0, 0])"
      ]
     },
     "execution_count": 8,
     "metadata": {},
     "output_type": "execute_result"
    }
   ],
   "source": [
    "np.zeros((5),dtype=int)"
   ]
  },
  {
   "cell_type": "code",
   "execution_count": 9,
   "id": "d956d71b",
   "metadata": {},
   "outputs": [
    {
     "data": {
      "text/plain": [
       "array([1, 1, 1, 1, 1])"
      ]
     },
     "execution_count": 9,
     "metadata": {},
     "output_type": "execute_result"
    }
   ],
   "source": [
    "np.ones((5),dtype=int)"
   ]
  },
  {
   "cell_type": "code",
   "execution_count": 10,
   "id": "82775b51",
   "metadata": {},
   "outputs": [
    {
     "data": {
      "text/plain": [
       "array([5.5, 5.5, 5.5, 5.5, 5.5, 5.5, 5.5, 5.5, 5.5, 5.5])"
      ]
     },
     "execution_count": 10,
     "metadata": {},
     "output_type": "execute_result"
    }
   ],
   "source": [
    "np.full(10,fill_value=5.5)"
   ]
  },
  {
   "cell_type": "code",
   "execution_count": 11,
   "id": "94dd8a52",
   "metadata": {},
   "outputs": [
    {
     "data": {
      "text/plain": [
       "array([0, 1, 2, 3, 4, 5, 6, 7, 8, 9])"
      ]
     },
     "execution_count": 11,
     "metadata": {},
     "output_type": "execute_result"
    }
   ],
   "source": [
    "np.arange(10)"
   ]
  },
  {
   "cell_type": "code",
   "execution_count": 12,
   "id": "88af077f",
   "metadata": {},
   "outputs": [
    {
     "data": {
      "text/plain": [
       "array([2., 4.])"
      ]
     },
     "execution_count": 12,
     "metadata": {},
     "output_type": "execute_result"
    }
   ],
   "source": [
    "np.arange(2,5,2,dtype=float)"
   ]
  },
  {
   "cell_type": "code",
   "execution_count": 13,
   "id": "8a61d354",
   "metadata": {},
   "outputs": [
    {
     "data": {
      "text/plain": [
       "array([5., 4., 3.])"
      ]
     },
     "execution_count": 13,
     "metadata": {},
     "output_type": "execute_result"
    }
   ],
   "source": [
    "np.arange(5,2,-1,dtype=float)"
   ]
  },
  {
   "cell_type": "code",
   "execution_count": 14,
   "id": "69857c74",
   "metadata": {},
   "outputs": [
    {
     "data": {
      "text/plain": [
       "(array([2. , 2.2, 2.4, 2.6, 2.8, 3. , 3.2, 3.4, 3.6, 3.8]), 0.2)"
      ]
     },
     "execution_count": 14,
     "metadata": {},
     "output_type": "execute_result"
    }
   ],
   "source": [
    "np.linspace(2,4,10,endpoint=False,retstep=True)"
   ]
  },
  {
   "cell_type": "code",
   "execution_count": 15,
   "id": "652bb3a8",
   "metadata": {},
   "outputs": [],
   "source": [
    "import matplotlib.pyplot as plt"
   ]
  },
  {
   "cell_type": "code",
   "execution_count": 16,
   "id": "0a482275",
   "metadata": {},
   "outputs": [
    {
     "data": {
      "image/png": "[encoded data removed]",
      "text/plain": [
       "<Figure size 640x480 with 1 Axes>"
      ]
     },
     "metadata": {},
     "output_type": "display_data"
    }
   ],
   "source": [
    "x=np.linspace(0,6,5,endpoint=True)\n",
    "y=np.linspace(0,6,5,endpoint=False)\n",
    "xx=np.zeros(5)\n",
    "plt.plot(x,xx,\"o\")\n",
    "plt.plot(y,xx+0.5,\"o\")\n",
    "plt.show()"
   ]
  },
  {
   "cell_type": "code",
   "execution_count": 17,
   "id": "a96b02a3",
   "metadata": {},
   "outputs": [
    {
     "data": {
      "text/plain": [
       "array([ 80. ,  52.8, 576. , 422.4])"
      ]
     },
     "execution_count": 17,
     "metadata": {},
     "output_type": "execute_result"
    }
   ],
   "source": [
    "np.empty(4)"
   ]
  },
  {
   "cell_type": "code",
   "execution_count": 18,
   "id": "3de77445",
   "metadata": {},
   "outputs": [
    {
     "data": {
      "text/plain": [
       "array([0.08368138, 0.4935632 , 0.51980864, 0.73048317, 0.32642173])"
      ]
     },
     "execution_count": 18,
     "metadata": {},
     "output_type": "execute_result"
    }
   ],
   "source": [
    "np.random.random(5)"
   ]
  },
  {
   "cell_type": "code",
   "execution_count": 19,
   "id": "4c8f639b",
   "metadata": {},
   "outputs": [
    {
     "data": {
      "text/plain": [
       "array([[1, 0, 0],\n",
       "       [0, 1, 0],\n",
       "       [0, 0, 1]])"
      ]
     },
     "execution_count": 19,
     "metadata": {},
     "output_type": "execute_result"
    }
   ],
   "source": [
    "np.eye(3,dtype=int)"
   ]
  },
  {
   "cell_type": "code",
   "execution_count": 20,
   "id": "746e0992",
   "metadata": {},
   "outputs": [
    {
     "data": {
      "text/plain": [
       "array([[1, 0, 0, 0, 0, 0, 0],\n",
       "       [0, 2, 0, 0, 0, 0, 0],\n",
       "       [0, 0, 3, 0, 0, 0, 0],\n",
       "       [0, 0, 0, 4, 0, 0, 0],\n",
       "       [0, 0, 0, 0, 5, 0, 0],\n",
       "       [0, 0, 0, 0, 0, 6, 0],\n",
       "       [0, 0, 0, 0, 0, 0, 7]])"
      ]
     },
     "execution_count": 20,
     "metadata": {},
     "output_type": "execute_result"
    }
   ],
   "source": [
    "np.diag((1,2,3,4,5,6,7))"
   ]
  },
  {
   "cell_type": "code",
   "execution_count": 21,
   "id": "f44410fb",
   "metadata": {},
   "outputs": [
    {
     "data": {
      "text/plain": [
       "array([[0.80814933, 0.70121389, 0.28179697],\n",
       "       [0.57527314, 0.74060576, 0.76025925]])"
      ]
     },
     "execution_count": 21,
     "metadata": {},
     "output_type": "execute_result"
    }
   ],
   "source": [
    "np.random.random([2,3])"
   ]
  },
  {
   "cell_type": "code",
   "execution_count": 22,
   "id": "8b75c590",
   "metadata": {},
   "outputs": [
    {
     "data": {
      "text/plain": [
       "array(['a', 'b'], dtype='<U1')"
      ]
     },
     "execution_count": 22,
     "metadata": {},
     "output_type": "execute_result"
    }
   ],
   "source": [
    "np.array([\"a\",\"b\"])"
   ]
  },
  {
   "cell_type": "code",
   "execution_count": 23,
   "id": "40451f2f",
   "metadata": {},
   "outputs": [
    {
     "data": {
      "text/plain": [
       "array([[1, 2],\n",
       "       [3, 6],\n",
       "       [4, 6]])"
      ]
     },
     "execution_count": 23,
     "metadata": {},
     "output_type": "execute_result"
    }
   ],
   "source": [
    "np.array([[1,2],[3,6],[4,6]])"
   ]
  },
  {
   "cell_type": "code",
   "execution_count": 24,
   "id": "53296ce3",
   "metadata": {},
   "outputs": [
    {
     "data": {
      "text/plain": [
       "array([[['a', 'b', 'c'],\n",
       "        ['v', 'a', 't'],\n",
       "        ['g', 'f', 'h']],\n",
       "\n",
       "       [['a', 'b', 'c'],\n",
       "        ['v', 'a', 't'],\n",
       "        ['g', 'f', 'h']]], dtype='<U1')"
      ]
     },
     "execution_count": 24,
     "metadata": {},
     "output_type": "execute_result"
    }
   ],
   "source": [
    "np.array([[[\"a\",\"b\",\"c\"],[\"v\",\"a\",\"t\"],[\"g\",\"f\",\"h\"]],[[\"a\",\"b\",\"c\"],[\"v\",\"a\",\"t\"],[\"g\",\"f\",\"h\"]]])"
   ]
  },
  {
   "cell_type": "code",
   "execution_count": 25,
   "id": "0679bad8",
   "metadata": {},
   "outputs": [
    {
     "data": {
      "text/plain": [
       "array([[[['a', 'b', 'c'],\n",
       "         ['v', 'a', 't'],\n",
       "         ['g', 'f', 'h']],\n",
       "\n",
       "        [['a', 'b', 'c'],\n",
       "         ['v', 'a', 't'],\n",
       "         ['g', 'f', 'h']]],\n",
       "\n",
       "\n",
       "       [[['a', 'b', 'c'],\n",
       "         ['v', 'a', 't'],\n",
       "         ['g', 'f', 'h']],\n",
       "\n",
       "        [['a', 'b', 'c'],\n",
       "         ['v', 'a', 't'],\n",
       "         ['g', 'f', 'h']]]], dtype='<U1')"
      ]
     },
     "execution_count": 25,
     "metadata": {},
     "output_type": "execute_result"
    }
   ],
   "source": [
    "np.array([[[[\"a\",\"b\",\"c\"],[\"v\",\"a\",\"t\"],[\"g\",\"f\",\"h\"]],[[\"a\",\"b\",\"c\"],[\"v\",\"a\",\"t\"],[\"g\",\"f\",\"h\"]]],[[[\"a\",\"b\",\"c\"],[\"v\",\"a\",\"t\"],[\"g\",\"f\",\"h\"]],[[\"a\",\"b\",\"c\"],[\"v\",\"a\",\"t\"],[\"g\",\"f\",\"h\"]]]])"
   ]
  },
  {
   "cell_type": "code",
   "execution_count": 26,
   "id": "af209b27",
   "metadata": {},
   "outputs": [
    {
     "data": {
      "text/plain": [
       "array([1., 1., 1.])"
      ]
     },
     "execution_count": 26,
     "metadata": {},
     "output_type": "execute_result"
    }
   ],
   "source": [
    "np.ones(3)"
   ]
  },
  {
   "cell_type": "code",
   "execution_count": 27,
   "id": "5b3520a8",
   "metadata": {},
   "outputs": [
    {
     "data": {
      "text/plain": [
       "array([[[1., 1., 1., 1.],\n",
       "        [1., 1., 1., 1.],\n",
       "        [1., 1., 1., 1.]],\n",
       "\n",
       "       [[1., 1., 1., 1.],\n",
       "        [1., 1., 1., 1.],\n",
       "        [1., 1., 1., 1.]]])"
      ]
     },
     "execution_count": 27,
     "metadata": {},
     "output_type": "execute_result"
    }
   ],
   "source": [
    "np.ones([2,3,4])"
   ]
  },
  {
   "cell_type": "code",
   "execution_count": 28,
   "id": "bf8ce9ee",
   "metadata": {},
   "outputs": [
    {
     "data": {
      "text/plain": [
       "array([[[[0., 0., 0., 0.],\n",
       "         [0., 0., 0., 0.],\n",
       "         [0., 0., 0., 0.]],\n",
       "\n",
       "        [[0., 0., 0., 0.],\n",
       "         [0., 0., 0., 0.],\n",
       "         [0., 0., 0., 0.]],\n",
       "\n",
       "        [[0., 0., 0., 0.],\n",
       "         [0., 0., 0., 0.],\n",
       "         [0., 0., 0., 0.]]],\n",
       "\n",
       "\n",
       "       [[[0., 0., 0., 0.],\n",
       "         [0., 0., 0., 0.],\n",
       "         [0., 0., 0., 0.]],\n",
       "\n",
       "        [[0., 0., 0., 0.],\n",
       "         [0., 0., 0., 0.],\n",
       "         [0., 0., 0., 0.]],\n",
       "\n",
       "        [[0., 0., 0., 0.],\n",
       "         [0., 0., 0., 0.],\n",
       "         [0., 0., 0., 0.]]]])"
      ]
     },
     "execution_count": 28,
     "metadata": {},
     "output_type": "execute_result"
    }
   ],
   "source": [
    "np.zeros([2,3,3,4])"
   ]
  },
  {
   "cell_type": "code",
   "execution_count": 29,
   "id": "24596cd4",
   "metadata": {},
   "outputs": [
    {
     "data": {
      "text/plain": [
       "array([2.       , 2.1111111, 2.2222222, 2.3333333, 2.4444444, 2.5555555,\n",
       "       2.6666666, 2.7777777, 2.8888888, 2.9999999, 3.111111 , 3.2222221,\n",
       "       3.3333332, 3.4444443, 3.5555554, 3.6666665, 3.7777776, 3.8888887,\n",
       "       3.9999998])"
      ]
     },
     "execution_count": 29,
     "metadata": {},
     "output_type": "execute_result"
    }
   ],
   "source": [
    "np.arange(2,4,step=0.1111111)"
   ]
  },
  {
   "cell_type": "code",
   "execution_count": 3,
   "id": "9e689e79",
   "metadata": {},
   "outputs": [
    {
     "data": {
      "text/plain": [
       "array([[2.  , 3.  , 4.  ],\n",
       "       [2.25, 3.25, 4.25],\n",
       "       [2.5 , 3.5 , 4.5 ],\n",
       "       [2.75, 3.75, 4.75],\n",
       "       [3.  , 4.  , 5.  ]])"
      ]
     },
     "execution_count": 3,
     "metadata": {},
     "output_type": "execute_result"
    }
   ],
   "source": [
    "np.linspace([2,3,4],[3,4,5],5,axis=0)"
   ]
  },
  {
   "cell_type": "code",
   "execution_count": 31,
   "id": "40f4397d",
   "metadata": {},
   "outputs": [
    {
     "data": {
      "text/plain": [
       "array([  1.        ,   1.98164517,   3.92691757,   7.78175721,\n",
       "        15.42068157,  30.55831909,  60.55574531, 120.        ])"
      ]
     },
     "execution_count": 31,
     "metadata": {},
     "output_type": "execute_result"
    }
   ],
   "source": [
    "np.geomspace(1,120,8)"
   ]
  },
  {
   "cell_type": "code",
   "execution_count": 5,
   "id": "9bed2d3e",
   "metadata": {},
   "outputs": [
    {
     "data": {
      "text/plain": [
       "array([   4,   16,   64,  256, 1024])"
      ]
     },
     "execution_count": 5,
     "metadata": {},
     "output_type": "execute_result"
    }
   ],
   "source": [
    "np.logspace(2,10,5,base=2,dtype=int)"
   ]
  },
  {
   "cell_type": "code",
   "execution_count": 33,
   "id": "50937fca",
   "metadata": {},
   "outputs": [
    {
     "data": {
      "text/plain": [
       "2"
      ]
     },
     "execution_count": 33,
     "metadata": {},
     "output_type": "execute_result"
    }
   ],
   "source": [
    "x=np.array([1,2,3,3,4,45,5])\n",
    "x[1]"
   ]
  },
  {
   "cell_type": "code",
   "execution_count": 34,
   "id": "c9840f73",
   "metadata": {},
   "outputs": [
    {
     "data": {
      "text/plain": [
       "array([3, 4, 5])"
      ]
     },
     "execution_count": 34,
     "metadata": {},
     "output_type": "execute_result"
    }
   ],
   "source": [
    "x[2:7:2]"
   ]
  },
  {
   "cell_type": "code",
   "execution_count": 35,
   "id": "e6aa2f0a",
   "metadata": {},
   "outputs": [
    {
     "data": {
      "text/plain": [
       "array([ 5, 45,  4,  3,  3,  2])"
      ]
     },
     "execution_count": 35,
     "metadata": {},
     "output_type": "execute_result"
    }
   ],
   "source": [
    "x[-1:0:-1]"
   ]
  },
  {
   "cell_type": "code",
   "execution_count": 36,
   "id": "f7a687a1",
   "metadata": {},
   "outputs": [
    {
     "data": {
      "text/plain": [
       "array([1, 2, 5, 5, 5, 5, 5])"
      ]
     },
     "execution_count": 36,
     "metadata": {},
     "output_type": "execute_result"
    }
   ],
   "source": [
    "x[2:8]=5\n",
    "x"
   ]
  },
  {
   "cell_type": "code",
   "execution_count": 37,
   "id": "2ba241b4",
   "metadata": {},
   "outputs": [],
   "source": [
    "y=x.copy()"
   ]
  },
  {
   "cell_type": "code",
   "execution_count": 38,
   "id": "82c2864e",
   "metadata": {},
   "outputs": [
    {
     "data": {
      "text/plain": [
       "array([100,   2,   5,   5,   5,   5,   5])"
      ]
     },
     "execution_count": 38,
     "metadata": {},
     "output_type": "execute_result"
    }
   ],
   "source": [
    "x[0]=100\n",
    "y\n",
    "x"
   ]
  },
  {
   "cell_type": "code",
   "execution_count": 39,
   "id": "3cfa40f0",
   "metadata": {},
   "outputs": [],
   "source": [
    "s=np.array([[1,2,3,4,6],[6,7,8,8,9],[24,5,6,7,7]])"
   ]
  },
  {
   "cell_type": "code",
   "execution_count": 40,
   "id": "836ac6ca",
   "metadata": {},
   "outputs": [
    {
     "data": {
      "text/plain": [
       "7"
      ]
     },
     "execution_count": 40,
     "metadata": {},
     "output_type": "execute_result"
    }
   ],
   "source": [
    "s[0,2]\n",
    "s[2,3]"
   ]
  },
  {
   "cell_type": "code",
   "execution_count": 41,
   "id": "62c84d57",
   "metadata": {},
   "outputs": [
    {
     "data": {
      "text/plain": [
       "array([[3, 4, 6],\n",
       "       [8, 8, 9],\n",
       "       [6, 7, 7]])"
      ]
     },
     "execution_count": 41,
     "metadata": {},
     "output_type": "execute_result"
    }
   ],
   "source": [
    "s[:,2:]"
   ]
  },
  {
   "cell_type": "markdown",
   "id": "7476bcd1",
   "metadata": {},
   "source": [
    "# advanced numpy\n"
   ]
  },
  {
   "cell_type": "code",
   "execution_count": 42,
   "id": "f12e3e81",
   "metadata": {},
   "outputs": [],
   "source": [
    "arr=np.array([1,2,3])"
   ]
  },
  {
   "cell_type": "code",
   "execution_count": 35,
   "id": "e4128818",
   "metadata": {},
   "outputs": [
    {
     "data": {
      "text/plain": [
       "array([], dtype=int32)"
      ]
     },
     "execution_count": 35,
     "metadata": {},
     "output_type": "execute_result"
    }
   ],
   "source": [
    "ar=np.array([3,5,6,1,1,1,6,1,0])\n",
    "ar[-1:0:2]"
   ]
  },
  {
   "cell_type": "code",
   "execution_count": 44,
   "id": "ff90a4e1",
   "metadata": {},
   "outputs": [
    {
     "data": {
      "text/plain": [
       "array([5, 6, 1])"
      ]
     },
     "execution_count": 44,
     "metadata": {},
     "output_type": "execute_result"
    }
   ],
   "source": [
    "k=ar[arr]\n",
    "k"
   ]
  },
  {
   "cell_type": "code",
   "execution_count": 45,
   "id": "25d0e185",
   "metadata": {},
   "outputs": [
    {
     "data": {
      "text/plain": [
       "array([1, 3])"
      ]
     },
     "execution_count": 45,
     "metadata": {},
     "output_type": "execute_result"
    }
   ],
   "source": [
    "t=np.array([True,False,True])\n",
    "z=arr[t]\n",
    "z"
   ]
  },
  {
   "cell_type": "code",
   "execution_count": 46,
   "id": "96257b4c",
   "metadata": {},
   "outputs": [],
   "source": [
    "arr2=np.array([[1,2,3,3],[5,6,6,7],[9,5,5,4]])"
   ]
  },
  {
   "cell_type": "code",
   "execution_count": 47,
   "id": "532f6ec8",
   "metadata": {},
   "outputs": [
    {
     "data": {
      "text/plain": [
       "array([3, 4])"
      ]
     },
     "execution_count": 47,
     "metadata": {},
     "output_type": "execute_result"
    }
   ],
   "source": [
    "selected=arr2[(0,2),3]\n",
    "selected"
   ]
  },
  {
   "cell_type": "code",
   "execution_count": 48,
   "id": "9480f5d4",
   "metadata": {},
   "outputs": [
    {
     "data": {
      "text/plain": [
       "array([ 6,  8, 10])"
      ]
     },
     "execution_count": 48,
     "metadata": {},
     "output_type": "execute_result"
    }
   ],
   "source": [
    "concat=np.array([1,2,3])+np.array([5,6,7])\n",
    "concat\n"
   ]
  },
  {
   "cell_type": "code",
   "execution_count": 49,
   "id": "cf342305",
   "metadata": {},
   "outputs": [
    {
     "data": {
      "text/plain": [
       "array([2, 4, 6])"
      ]
     },
     "execution_count": 49,
     "metadata": {},
     "output_type": "execute_result"
    }
   ],
   "source": [
    "x=np.array([1,2,3])\n",
    "y=np.array([1,2,3])\n",
    "np.add(x,y)"
   ]
  },
  {
   "cell_type": "code",
   "execution_count": 50,
   "id": "5e0cbb06",
   "metadata": {},
   "outputs": [],
   "source": [
    "size=1000\n",
    "a=np.arange(size)\n",
    "b=np.arange(size)\n"
   ]
  },
  {
   "cell_type": "code",
   "execution_count": 51,
   "id": "6c04f0a4",
   "metadata": {},
   "outputs": [],
   "source": [
    "def addwloop():\n",
    "    suml=[a[i]+b[i] for i in range(len(a))]\n",
    "    return suml"
   ]
  },
  {
   "cell_type": "code",
   "execution_count": 52,
   "id": "a65daf15",
   "metadata": {},
   "outputs": [],
   "source": [
    "def vect():\n",
    "    suml=a+b\n",
    "    return suml"
   ]
  },
  {
   "cell_type": "code",
   "execution_count": 53,
   "id": "b7321dfe",
   "metadata": {},
   "outputs": [
    {
     "name": "stdout",
     "output_type": "stream",
     "text": [
      "289 µs ± 52.3 µs per loop (mean ± std. dev. of 7 runs, 1000 loops each)\n"
     ]
    }
   ],
   "source": [
    "%timeit addwloop()"
   ]
  },
  {
   "cell_type": "code",
   "execution_count": 54,
   "id": "113e0703",
   "metadata": {},
   "outputs": [
    {
     "name": "stdout",
     "output_type": "stream",
     "text": [
      "1.27 µs ± 91.5 ns per loop (mean ± std. dev. of 7 runs, 1000000 loops each)\n"
     ]
    }
   ],
   "source": [
    "%timeit vect()"
   ]
  },
  {
   "cell_type": "markdown",
   "id": "fbe9a702",
   "metadata": {},
   "source": [
    "# operations--:subtract,multiply,divide,mod,floor_divide,power"
   ]
  },
  {
   "cell_type": "markdown",
   "id": "6dbd66d9",
   "metadata": {},
   "source": [
    "# relational--:greater,greater_equal,less,less_equal,equal,not_equal"
   ]
  },
  {
   "cell_type": "code",
   "execution_count": 55,
   "id": "eadccdc7",
   "metadata": {},
   "outputs": [],
   "source": [
    "x=np.array([1,2,3,3])\n",
    "y=np.array([4,5,6,7])"
   ]
  },
  {
   "cell_type": "code",
   "execution_count": 56,
   "id": "7a302221",
   "metadata": {},
   "outputs": [
    {
     "data": {
      "text/plain": [
       "array([False, False, False, False])"
      ]
     },
     "execution_count": 56,
     "metadata": {},
     "output_type": "execute_result"
    }
   ],
   "source": [
    "np.greater(x,y)"
   ]
  },
  {
   "cell_type": "code",
   "execution_count": 57,
   "id": "9a75dbae",
   "metadata": {},
   "outputs": [
    {
     "data": {
      "text/plain": [
       "array([ True,  True,  True,  True])"
      ]
     },
     "execution_count": 57,
     "metadata": {},
     "output_type": "execute_result"
    }
   ],
   "source": [
    "np.not_equal(x,y)"
   ]
  },
  {
   "cell_type": "code",
   "execution_count": 58,
   "id": "f91d3cbd",
   "metadata": {},
   "outputs": [
    {
     "data": {
      "text/plain": [
       "array([ True,  True,  True,  True])"
      ]
     },
     "execution_count": 58,
     "metadata": {},
     "output_type": "execute_result"
    }
   ],
   "source": [
    "x!=y"
   ]
  },
  {
   "cell_type": "markdown",
   "id": "21f82d69",
   "metadata": {},
   "source": [
    "# bitwise operators---:bitwise_and,bitwise_or,bitwise_xor,invert,left_shift,right_shift"
   ]
  },
  {
   "cell_type": "code",
   "execution_count": 59,
   "id": "29fc3081",
   "metadata": {},
   "outputs": [
    {
     "data": {
      "text/plain": [
       "array([0, 1, 0, 0, 0], dtype=int32)"
      ]
     },
     "execution_count": 59,
     "metadata": {},
     "output_type": "execute_result"
    }
   ],
   "source": [
    "a=np.array([2,1,0,7,9])\n",
    "b=np.array([1,1,1,8,0])\n",
    "np.bitwise_and(a,b)"
   ]
  },
  {
   "cell_type": "code",
   "execution_count": 60,
   "id": "7912400a",
   "metadata": {},
   "outputs": [
    {
     "data": {
      "text/plain": [
       "array([ 3,  1,  1, 15,  9], dtype=int32)"
      ]
     },
     "execution_count": 60,
     "metadata": {},
     "output_type": "execute_result"
    }
   ],
   "source": [
    "a|b"
   ]
  },
  {
   "cell_type": "code",
   "execution_count": 61,
   "id": "d2bac29a",
   "metadata": {},
   "outputs": [
    {
     "data": {
      "text/plain": [
       "array([ -3,  -2,  -1,  -8, -10], dtype=int32)"
      ]
     },
     "execution_count": 61,
     "metadata": {},
     "output_type": "execute_result"
    }
   ],
   "source": [
    "~a"
   ]
  },
  {
   "cell_type": "code",
   "execution_count": 62,
   "id": "989c3407",
   "metadata": {},
   "outputs": [
    {
     "data": {
      "text/plain": [
       "array([   4,    2,    0, 1792,    9], dtype=int32)"
      ]
     },
     "execution_count": 62,
     "metadata": {},
     "output_type": "execute_result"
    }
   ],
   "source": [
    "a<<b"
   ]
  },
  {
   "cell_type": "code",
   "execution_count": 63,
   "id": "32f68e9d",
   "metadata": {},
   "outputs": [],
   "source": [
    "#matrix multilpy"
   ]
  },
  {
   "cell_type": "code",
   "execution_count": 64,
   "id": "ddf029c5",
   "metadata": {},
   "outputs": [
    {
     "data": {
      "text/plain": [
       "59"
      ]
     },
     "execution_count": 64,
     "metadata": {},
     "output_type": "execute_result"
    }
   ],
   "source": [
    "np.matmul(a,b)"
   ]
  },
  {
   "cell_type": "code",
   "execution_count": 65,
   "id": "9c085c50",
   "metadata": {},
   "outputs": [
    {
     "data": {
      "text/plain": [
       "array([[  9,  10],\n",
       "       [101, 116]])"
      ]
     },
     "execution_count": 65,
     "metadata": {},
     "output_type": "execute_result"
    }
   ],
   "source": [
    "a=np.array([[2,1,0],[4,7,8]])\n",
    "b=np.array([[1,1],[7,8],[6,7]])\n",
    "np.matmul(a,b)  #a@b"
   ]
  },
  {
   "cell_type": "code",
   "execution_count": 66,
   "id": "b749da32",
   "metadata": {},
   "outputs": [
    {
     "data": {
      "text/plain": [
       "array([[2, 4],\n",
       "       [1, 7],\n",
       "       [0, 8]])"
      ]
     },
     "execution_count": 66,
     "metadata": {},
     "output_type": "execute_result"
    }
   ],
   "source": [
    "a.T"
   ]
  },
  {
   "cell_type": "code",
   "execution_count": 67,
   "id": "cf12b9db",
   "metadata": {},
   "outputs": [
    {
     "data": {
      "text/plain": [
       "10.0"
      ]
     },
     "execution_count": 67,
     "metadata": {},
     "output_type": "execute_result"
    }
   ],
   "source": [
    "a=np.array([[2,1,0],[4,7,8],[3,4,5]])\n",
    "x=np.linalg.det(a)\n",
    "round(x,4)"
   ]
  },
  {
   "cell_type": "code",
   "execution_count": 68,
   "id": "8974ef2a",
   "metadata": {},
   "outputs": [
    {
     "data": {
      "text/plain": [
       "array([[4, 6, 8, 8],\n",
       "       [3, 5, 6, 6]])"
      ]
     },
     "execution_count": 68,
     "metadata": {},
     "output_type": "execute_result"
    }
   ],
   "source": [
    "a=np.array([[2,3,4,5],[1,2,2,3]])\n",
    "b=np.array([2,3,4,3])\n",
    "a+b"
   ]
  },
  {
   "cell_type": "code",
   "execution_count": 69,
   "id": "9e0b49f1",
   "metadata": {},
   "outputs": [
    {
     "data": {
      "text/plain": [
       "(2, 4)"
      ]
     },
     "execution_count": 69,
     "metadata": {},
     "output_type": "execute_result"
    }
   ],
   "source": [
    "a.shape"
   ]
  },
  {
   "cell_type": "code",
   "execution_count": 70,
   "id": "e0763ec2",
   "metadata": {},
   "outputs": [
    {
     "data": {
      "text/plain": [
       "array([[1., 2., 3., 3.],\n",
       "       [1., 2., 3., 3.],\n",
       "       [1., 2., 3., 3.]])"
      ]
     },
     "execution_count": 70,
     "metadata": {},
     "output_type": "execute_result"
    }
   ],
   "source": [
    "a=np.zeros((3,4))\n",
    "x=np.array([1,2,3,3]).reshape(1,4)\n",
    "y=a+x\n",
    "y"
   ]
  },
  {
   "cell_type": "code",
   "execution_count": 71,
   "id": "a728827f",
   "metadata": {},
   "outputs": [
    {
     "data": {
      "text/plain": [
       "array([[5., 5., 5., 5.],\n",
       "       [5., 5., 5., 5.],\n",
       "       [5., 5., 5., 5.]])"
      ]
     },
     "execution_count": 71,
     "metadata": {},
     "output_type": "execute_result"
    }
   ],
   "source": [
    "a+5"
   ]
  },
  {
   "cell_type": "code",
   "execution_count": 72,
   "id": "be2f6c3c",
   "metadata": {},
   "outputs": [
    {
     "data": {
      "text/plain": [
       "array([[ True, False, False, False],\n",
       "       [ True, False, False, False],\n",
       "       [ True, False, False, False]])"
      ]
     },
     "execution_count": 72,
     "metadata": {},
     "output_type": "execute_result"
    }
   ],
   "source": [
    "y<2"
   ]
  },
  {
   "cell_type": "code",
   "execution_count": 73,
   "id": "91fa9cdb",
   "metadata": {},
   "outputs": [
    {
     "data": {
      "text/plain": [
       "27.0"
      ]
     },
     "execution_count": 73,
     "metadata": {},
     "output_type": "execute_result"
    }
   ],
   "source": [
    "np.sum(y)"
   ]
  },
  {
   "cell_type": "code",
   "execution_count": 74,
   "id": "88879bc0",
   "metadata": {},
   "outputs": [
    {
     "data": {
      "text/plain": [
       "array([3., 6., 9., 9.])"
      ]
     },
     "execution_count": 74,
     "metadata": {},
     "output_type": "execute_result"
    }
   ],
   "source": [
    "y.sum()\n",
    "y.sum(axis=0)"
   ]
  },
  {
   "cell_type": "code",
   "execution_count": 75,
   "id": "fef3f70e",
   "metadata": {},
   "outputs": [
    {
     "data": {
      "text/plain": [
       "array([2, 3, 3, 4])"
      ]
     },
     "execution_count": 75,
     "metadata": {},
     "output_type": "execute_result"
    }
   ],
   "source": [
    "b.sort()\n",
    "b"
   ]
  },
  {
   "cell_type": "code",
   "execution_count": 76,
   "id": "981126c5",
   "metadata": {},
   "outputs": [],
   "source": [
    "x=np.sort(b)"
   ]
  },
  {
   "cell_type": "code",
   "execution_count": 77,
   "id": "db031733",
   "metadata": {},
   "outputs": [
    {
     "data": {
      "text/plain": [
       "array([2, 3, 3, 4])"
      ]
     },
     "execution_count": 77,
     "metadata": {},
     "output_type": "execute_result"
    }
   ],
   "source": [
    "x[1]=6\n",
    "x\n",
    "b"
   ]
  },
  {
   "cell_type": "code",
   "execution_count": 78,
   "id": "89296aa6",
   "metadata": {},
   "outputs": [
    {
     "data": {
      "text/plain": [
       "array([-1,  0,  1,  2,  3])"
      ]
     },
     "execution_count": 78,
     "metadata": {},
     "output_type": "execute_result"
    }
   ],
   "source": [
    "arr=np.array([1,-1,3,0,2])\n",
    "ind=np.argsort(arr)\n",
    "arr[ind]"
   ]
  },
  {
   "cell_type": "code",
   "execution_count": 81,
   "id": "50314ca0",
   "metadata": {},
   "outputs": [
    {
     "data": {
      "text/plain": [
       "array([[1, 2],\n",
       "       [3, 4],\n",
       "       [5, 6]])"
      ]
     },
     "execution_count": 81,
     "metadata": {},
     "output_type": "execute_result"
    }
   ],
   "source": [
    "xar=np.array([1,2,3,4,5,6])\n",
    "rexar=xar.reshape(3,-1)\n",
    "rexar"
   ]
  },
  {
   "cell_type": "code",
   "execution_count": 86,
   "id": "1bdc2d6f",
   "metadata": {},
   "outputs": [
    {
     "data": {
      "text/plain": [
       "array([10,  2,  3,  4,  5,  6])"
      ]
     },
     "execution_count": 86,
     "metadata": {},
     "output_type": "execute_result"
    }
   ],
   "source": [
    "x=np.ravel(xar)\n",
    "x[0]=10\n",
    "x"
   ]
  },
  {
   "cell_type": "code",
   "execution_count": 89,
   "id": "f3c656fc",
   "metadata": {},
   "outputs": [
    {
     "data": {
      "text/plain": [
       "array([10,  2,  3,  4,  5,  6])"
      ]
     },
     "execution_count": 89,
     "metadata": {},
     "output_type": "execute_result"
    }
   ],
   "source": [
    "xar"
   ]
  },
  {
   "cell_type": "code",
   "execution_count": 94,
   "id": "afe29b29",
   "metadata": {},
   "outputs": [
    {
     "data": {
      "text/plain": [
       "array([[10],\n",
       "       [ 2],\n",
       "       [ 3],\n",
       "       [ 4],\n",
       "       [ 5],\n",
       "       [ 6]])"
      ]
     },
     "execution_count": 94,
     "metadata": {},
     "output_type": "execute_result"
    }
   ],
   "source": [
    "arow=xar[:,np.newaxis]\n",
    "arow"
   ]
  },
  {
   "cell_type": "code",
   "execution_count": 104,
   "id": "3e0676e6",
   "metadata": {},
   "outputs": [
    {
     "data": {
      "text/plain": [
       "(3, 4)"
      ]
     },
     "execution_count": 104,
     "metadata": {},
     "output_type": "execute_result"
    }
   ],
   "source": [
    "a=np.array([[1,2,3,5],[2,3,4,5],[3,3,4,5]])\n",
    "a.shape"
   ]
  },
  {
   "cell_type": "code",
   "execution_count": 97,
   "id": "c9d194a2",
   "metadata": {},
   "outputs": [
    {
     "data": {
      "text/plain": [
       "(3,)"
      ]
     },
     "execution_count": 97,
     "metadata": {},
     "output_type": "execute_result"
    }
   ],
   "source": [
    "np.squeeze(a).shape"
   ]
  },
  {
   "cell_type": "code",
   "execution_count": 100,
   "id": "45db46fd",
   "metadata": {},
   "outputs": [
    {
     "data": {
      "text/plain": [
       "array([[[[1],\n",
       "         [2],\n",
       "         [3]]]])"
      ]
     },
     "execution_count": 100,
     "metadata": {},
     "output_type": "execute_result"
    }
   ],
   "source": [
    "np.expand_dims(a,axis=1)"
   ]
  },
  {
   "cell_type": "code",
   "execution_count": 108,
   "id": "8df35807",
   "metadata": {},
   "outputs": [
    {
     "data": {
      "text/plain": [
       "array([[1, 2, 3],\n",
       "       [1, 2, 3],\n",
       "       [1, 2, 3],\n",
       "       [4, 5, 6],\n",
       "       [4, 5, 6],\n",
       "       [4, 5, 6]])"
      ]
     },
     "execution_count": 108,
     "metadata": {},
     "output_type": "execute_result"
    }
   ],
   "source": [
    "a=np.array([[1,2,3],[4,5,6]])\n",
    "np.repeat(a,3,axis=0)"
   ]
  },
  {
   "cell_type": "code",
   "execution_count": 113,
   "id": "2061575a",
   "metadata": {},
   "outputs": [
    {
     "data": {
      "text/plain": [
       "array([ 1,  2,  3, -1, -2, -3])"
      ]
     },
     "execution_count": 113,
     "metadata": {},
     "output_type": "execute_result"
    }
   ],
   "source": [
    "a=np.array([1,2,3])\n",
    "b=np.array([-1,-2,-3])\n",
    "np.hstack((a,b))"
   ]
  },
  {
   "cell_type": "code",
   "execution_count": 117,
   "id": "8abbfdb1",
   "metadata": {},
   "outputs": [
    {
     "data": {
      "text/plain": [
       "array([[1, 1, 2, 3, 3, 3],\n",
       "       [1, 1, 2, 3, 3, 3],\n",
       "       [4, 4, 5, 6, 6, 6],\n",
       "       [7, 7, 8, 9, 9, 9],\n",
       "       [7, 7, 8, 9, 9, 9],\n",
       "       [7, 7, 8, 9, 9, 9]])"
      ]
     },
     "execution_count": 117,
     "metadata": {},
     "output_type": "execute_result"
    }
   ],
   "source": [
    "ar=np.array([[1,2,3],[4,5,6],[7,8,9]])\n",
    "pad=np.pad(ar,(1,2),\"edge\")\n",
    "pad"
   ]
  },
  {
   "cell_type": "code",
   "execution_count": 6,
   "id": "798f499a",
   "metadata": {},
   "outputs": [
    {
     "data": {
      "text/plain": [
       "array([[0, 0, 0, 0, 0, 0],\n",
       "       [0, 1, 2, 3, 0, 0],\n",
       "       [0, 4, 5, 6, 0, 0],\n",
       "       [0, 7, 8, 9, 0, 0],\n",
       "       [0, 0, 0, 0, 0, 0],\n",
       "       [0, 0, 0, 0, 0, 0]])"
      ]
     },
     "execution_count": 6,
     "metadata": {},
     "output_type": "execute_result"
    }
   ],
   "source": [
    "ar=np.array([[1,2,3],[4,5,6],[7,8,9]])\n",
    "pad=np.pad(ar,(1,2),\"constant\",constant_values=(0,0))\n",
    "pad"
   ]
  },
  {
   "cell_type": "code",
   "execution_count": 9,
   "id": "d7810887",
   "metadata": {},
   "outputs": [
    {
     "data": {
      "text/plain": [
       "array([[0, 0, 0],\n",
       "       [0, 0, 0],\n",
       "       [0, 0, 0]])"
      ]
     },
     "execution_count": 9,
     "metadata": {},
     "output_type": "execute_result"
    }
   ],
   "source": [
    "np.zeros((3,3),dtype=int)"
   ]
  },
  {
   "cell_type": "code",
   "execution_count": 16,
   "id": "f4612ee2",
   "metadata": {},
   "outputs": [
    {
     "data": {
      "text/plain": [
       "array([[1, 2, 3, 4],\n",
       "       [1, 2, 3, 4],\n",
       "       [1, 2, 3, 4]])"
      ]
     },
     "execution_count": 16,
     "metadata": {},
     "output_type": "execute_result"
    }
   ],
   "source": [
    "np.full((3,4),fill_value=(1,2,3,4))"
   ]
  },
  {
   "cell_type": "code",
   "execution_count": 18,
   "id": "5a9b4be4",
   "metadata": {},
   "outputs": [
    {
     "data": {
      "text/plain": [
       "array([2.12199579e-314, 4.67296746e-307, 4.46635344e-321, 6.95272004e-310])"
      ]
     },
     "execution_count": 18,
     "metadata": {},
     "output_type": "execute_result"
    }
   ],
   "source": [
    "np.empty(4)"
   ]
  },
  {
   "cell_type": "code",
   "execution_count": 21,
   "id": "5b0ced55",
   "metadata": {},
   "outputs": [
    {
     "data": {
      "text/plain": [
       "array([[1, 0, 0, 0],\n",
       "       [0, 2, 0, 0],\n",
       "       [0, 0, 3, 0],\n",
       "       [0, 0, 0, 5]])"
      ]
     },
     "execution_count": 21,
     "metadata": {},
     "output_type": "execute_result"
    }
   ],
   "source": [
    "np.diag((1,2,3,5))"
   ]
  },
  {
   "cell_type": "code",
   "execution_count": 25,
   "id": "97572d5f",
   "metadata": {},
   "outputs": [
    {
     "data": {
      "text/plain": [
       "array([], dtype=int32)"
      ]
     },
     "execution_count": 25,
     "metadata": {},
     "output_type": "execute_result"
    }
   ],
   "source": [
    "np.arange(15,3,1)"
   ]
  },
  {
   "cell_type": "code",
   "execution_count": 27,
   "id": "9b1eba3d",
   "metadata": {},
   "outputs": [
    {
     "data": {
      "text/plain": [
       "array([4. , 4.5, 5. , 5.5, 6. ])"
      ]
     },
     "execution_count": 27,
     "metadata": {},
     "output_type": "execute_result"
    }
   ],
   "source": [
    "np.linspace(4.0,6.0,5)"
   ]
  },
  {
   "cell_type": "code",
   "execution_count": 29,
   "id": "7e288084",
   "metadata": {},
   "outputs": [
    {
     "data": {
      "text/plain": [
       "array([[[1., 1., 1., 1.],\n",
       "        [1., 1., 1., 1.],\n",
       "        [1., 1., 1., 1.]],\n",
       "\n",
       "       [[1., 1., 1., 1.],\n",
       "        [1., 1., 1., 1.],\n",
       "        [1., 1., 1., 1.]]])"
      ]
     },
     "execution_count": 29,
     "metadata": {},
     "output_type": "execute_result"
    }
   ],
   "source": [
    "np.ones((2,3,4))"
   ]
  },
  {
   "cell_type": "code",
   "execution_count": 59,
   "id": "b79025f8",
   "metadata": {},
   "outputs": [
    {
     "data": {
      "text/plain": [
       "array(['k'], dtype='<U1')"
      ]
     },
     "execution_count": 59,
     "metadata": {},
     "output_type": "execute_result"
    }
   ],
   "source": [
    "x=np.array([[\"a\",\"b\",\"c\"],[\"t\",\"j\",\"k\"],[\"l\",\"s\",\"w\"]])\n",
    "y=np.array([False,True,False])\n",
    "x[y,2]"
   ]
  },
  {
   "cell_type": "code",
   "execution_count": 52,
   "id": "9f2e2553",
   "metadata": {},
   "outputs": [
    {
     "data": {
      "text/plain": [
       "array([2, 4])"
      ]
     },
     "execution_count": 52,
     "metadata": {},
     "output_type": "execute_result"
    }
   ],
   "source": [
    "a=np.array([1,2,3,4])\n",
    "y=np.array([False,True,False,True])\n",
    "a[y]"
   ]
  }
 ],
 "metadata": {
  "kernelspec": {
   "display_name": "Python 3 (ipykernel)",
   "language": "python",
   "name": "python3"
  },
  "language_info": {
   "codemirror_mode": {
    "name": "ipython",
    "version": 3
   },
   "file_extension": ".py",
   "mimetype": "text/x-python",
   "name": "python",
   "nbconvert_exporter": "python",
   "pygments_lexer": "ipython3",
   "version": "3.9.13"
  }
 },
 "nbformat": 4,
 "nbformat_minor": 5
}
